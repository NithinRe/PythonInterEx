{
 "cells": [
  {
   "cell_type": "code",
   "execution_count": 24,
   "metadata": {},
   "outputs": [
    {
     "name": "stdout",
     "output_type": "stream",
     "text": [
      "['mp', 'mr', 'mq', 'ms', 'np', 'nr', 'nq', 'ns', 'op', 'or', 'oq', 'os']\n",
      "['py', 'ry', 'qy', 'sy']\n"
     ]
    }
   ],
   "source": [
    "def combo(digits):\n",
    "    if digits == \"\":\n",
    "        return  []\n",
    "    string_map = {\n",
    "            \"1\":\"abc\",\n",
    "            \"2\":\"def\",\n",
    "            \"3\":\"ghi\",\n",
    "            \"4\":\"jkl\",\n",
    "            \"5\":\"mno\",\n",
    "            \"6\":\"prqs\",\n",
    "            \"7\":\"tuv\",\n",
    "            \"8\":\"wxy\",\n",
    "            \"9\":\"y\" \n",
    "    }   \n",
    "    result = [\"\"]\n",
    "    for num in digits:\n",
    "        \n",
    "        temp = []\n",
    "        for an in result:\n",
    "            for char in string_map[num]:\n",
    "                \n",
    "                temp.append(an+char)\n",
    "        result = temp\n",
    "    return result        \n",
    "x = \"56\"\n",
    "y = \"69\"\n",
    "print(combo(x))\n",
    "print(combo(y))"
   ]
  },
  {
   "cell_type": "code",
   "execution_count": 27,
   "metadata": {},
   "outputs": [
    {
     "name": "stdin",
     "output_type": "stream",
     "text": [
      "Enter a number :  2\n",
      "Enter a number :  10\n"
     ]
    },
    {
     "name": "stdout",
     "output_type": "stream",
     "text": [
      "12\n"
     ]
    }
   ],
   "source": [
    "#add \n",
    "def with_out(a,b):\n",
    "    while b != 0:\n",
    "        data = a & b\n",
    "        a = a^b\n",
    "        b = data << 1\n",
    "    return a \n",
    "a = int(input('Enter a number : '))\n",
    "b = int(input('Enter a number : '))\n",
    "print(with_out(a,b))"
   ]
  },
  {
   "cell_type": "code",
   "execution_count": 60,
   "metadata": {},
   "outputs": [],
   "source": [
    "from collections import deque\n",
    "import re\n",
    "__operators__ = \"+-/*\"\n",
    "__parenthasis__ = \"()\"\n",
    "__priority__ = {\n",
    "    '+': 0,\n",
    "    '-': 0,\n",
    "    '*': 1,\n",
    "    '/': 1\n",
    "}\n",
    "def high(operator1,operator2):\n",
    "    return __priority__[operator1] >= __priority__[operator2]\n"
   ]
  },
  {
   "cell_type": "code",
   "execution_count": 62,
   "metadata": {},
   "outputs": [
    {
     "data": {
      "text/plain": [
       "False"
      ]
     },
     "execution_count": 62,
     "metadata": {},
     "output_type": "execute_result"
    }
   ],
   "source": [
    "high('*','-')\n"
   ]
  },
  {
   "cell_type": "code",
   "execution_count": 63,
   "metadata": {},
   "outputs": [
    {
     "data": {
      "text/plain": [
       "False"
      ]
     },
     "execution_count": 63,
     "metadata": {},
     "output_type": "execute_result"
    }
   ],
   "source": [
    "high('+','/')"
   ]
  },
  {
   "cell_type": "code",
   "execution_count": 64,
   "metadata": {},
   "outputs": [
    {
     "data": {
      "text/plain": [
       "True"
      ]
     },
     "execution_count": 64,
     "metadata": {},
     "output_type": "execute_result"
    }
   ],
   "source": [
    "high('*','+')\n"
   ]
  },
  {
   "cell_type": "code",
   "execution_count": 69,
   "metadata": {},
   "outputs": [
    {
     "name": "stdout",
     "output_type": "stream",
     "text": [
      "Hypotenuse = 5.0\n",
      "Adjacent = 4.0\n",
      "Opposite = 3.0\n",
      "You know the answer!\n"
     ]
    }
   ],
   "source": [
    "Pyt\n",
    "def pythagoras(opposite_side,adjacent_side,hypotenuse):\n",
    "        if opposite_side == str(\"x\"):\n",
    "            \n",
    "            return (\"Opposite = \" + str(((hypotenuse**2) - (adjacent_side**2))**0.5))\n",
    "        elif adjacent_side == str(\"x\"):\n",
    "            \n",
    "            return (\"Adjacent = \" + str(((hypotenuse**2) - (opposite_side**2))**0.5))\n",
    "        elif hypotenuse == str(\"x\"):\n",
    "            \n",
    "            return (\"Hypotenuse = \" + str(((opposite_side**2) + (adjacent_side**2))**0.5))\n",
    "        else:\n",
    "            return \"You know the answer!\"\n",
    "    \n",
    "print(pythagoras(3,4,'x'))\n",
    "print(pythagoras(3,'x',5))\n",
    "print(pythagoras('x',4,5))\n",
    "print(pythagoras(3,4,5))\n"
   ]
  },
  {
   "cell_type": "code",
   "execution_count": 74,
   "metadata": {},
   "outputs": [],
   "source": [
    "#strobogrammatic Number\n",
    "def strobogrammatic(n):\n",
    "    result = helper(n,n)\n",
    "    return result\n",
    "def helper(n,length):\n",
    "    if n == 0:\n",
    "        return [\"\"]\n",
    "    if n == 1:\n",
    "        return [\"1\",\"0\",\"8\"]\n",
    "    middles = helper(n-2,length)\n",
    "    result = []\n",
    "    for middle in middles:\n",
    "        if n != length:\n",
    "            result.append('0'+middle+'0')\n",
    "        result.append('1'+middle+'1')\n",
    "        result.append('0'+middle+'0')\n",
    "        result.append('9'+middle+'9')\n",
    "        result.append('6'+middle+'6')\n",
    "    return result\n"
   ]
  },
  {
   "cell_type": "code",
   "execution_count": 81,
   "metadata": {},
   "outputs": [
    {
     "data": {
      "text/plain": [
       "['1001',\n",
       " '0000',\n",
       " '9009',\n",
       " '6006',\n",
       " '1111',\n",
       " '0110',\n",
       " '9119',\n",
       " '6116',\n",
       " '1001',\n",
       " '0000',\n",
       " '9009',\n",
       " '6006',\n",
       " '1991',\n",
       " '0990',\n",
       " '9999',\n",
       " '6996',\n",
       " '1661',\n",
       " '0660',\n",
       " '9669',\n",
       " '6666']"
      ]
     },
     "execution_count": 81,
     "metadata": {},
     "output_type": "execute_result"
    }
   ],
   "source": [
    "strobogrammatic(4)"
   ]
  },
  {
   "cell_type": "code",
   "execution_count": 94,
   "metadata": {},
   "outputs": [
    {
     "name": "stdin",
     "output_type": "stream",
     "text": [
      "Enter a number :  20\n",
      "Enter a number :  5\n",
      "Enter a number :  12\n"
     ]
    },
    {
     "name": "stdout",
     "output_type": "stream",
     "text": [
      "Median of above three number : \n",
      "12\n"
     ]
    }
   ],
   "source": [
    "x = int(input('Enter a number : '))\n",
    "y = int(input('Enter a number : '))\n",
    "z = int(input('Enter a number : '))\n",
    "print('Median of above three number : ')\n",
    "\n",
    "if y < x and x < z:\n",
    "    print(x)\n",
    "elif z < x and x < y:\n",
    "    print(x)\n",
    "    \n",
    "elif z < y and y < x:\n",
    "    print(y)\n",
    "elif x < y and y < z:\n",
    "    print(y)\n",
    "    \n",
    "elif y < z and z < x:\n",
    "    print(z)\n",
    "elif x < z and z < y:\n",
    "    print(z)"
   ]
  },
  {
   "cell_type": "code",
   "execution_count": 95,
   "metadata": {},
   "outputs": [
    {
     "name": "stdin",
     "output_type": "stream",
     "text": [
      "Input the first number 20\n",
      "Input the second number 5\n",
      "Input the third number 12\n"
     ]
    },
    {
     "name": "stdout",
     "output_type": "stream",
     "text": [
      "Median of the above three numbers -\n",
      "20\n"
     ]
    }
   ],
   "source": [
    "x = input(\"Input the first number\")\n",
    "y = input(\"Input the second number\")\n",
    "z = input(\"Input the third number\")\n",
    "print(\"Median of the above three numbers -\")\n",
    "\n",
    "if y < x and x < z:\n",
    "    print(x)\n",
    "elif z < x and x < y:\n",
    "    print(x)\n",
    "    \n",
    "elif z < y and y < x:\n",
    "    print(y)\n",
    "elif x < y and y < z:\n",
    "    print(y)\n",
    "    \n",
    "elif y < z and z < x:\n",
    "    print(z)    \n",
    "elif x < z and z < y:\n",
    "    print(z)\n"
   ]
  },
  {
   "cell_type": "code",
   "execution_count": 6,
   "metadata": {},
   "outputs": [
    {
     "name": "stdout",
     "output_type": "stream",
     "text": [
      "['jt', 'ju', 'jv', 'kt', 'ku', 'kv', 'lt', 'lu', 'lv']\n",
      "['dz', 'ez', 'fz']\n"
     ]
    }
   ],
   "source": [
    "def letter_combinations(digits):\n",
    "    if digits == \"\":\n",
    "        return []\n",
    "    string_maps = {\n",
    "        \"1\": \"abc\",\n",
    "        \"2\": \"def\",\n",
    "        \"3\": \"ghi\",\n",
    "        \"4\": \"jkl\",\n",
    "        \"5\": \"mno\",\n",
    "        \"6\": \"pqrs\",\n",
    "        \"7\": \"tuv\",\n",
    "        \"8\": \"wxy\",\n",
    "        \"9\": \"z\"\n",
    "    }\n",
    "    result = [\"\"]\n",
    "    for num in digits:\n",
    "        temp = []\n",
    "        for an in result:\n",
    "            for char in string_maps[num]:\n",
    "                temp.append(an + char)\n",
    "        result = temp\n",
    "    return result\n",
    "\n",
    "digit_string = \"47\"\n",
    "print(letter_combinations(digit_string))\n",
    "digit_string = \"29\"\n",
    "print(letter_combinations(digit_string))\n"
   ]
  }
 ],
 "metadata": {
  "kernelspec": {
   "display_name": "Python 3",
   "language": "python",
   "name": "python3"
  },
  "language_info": {
   "codemirror_mode": {
    "name": "ipython",
    "version": 3
   },
   "file_extension": ".py",
   "mimetype": "text/x-python",
   "name": "python",
   "nbconvert_exporter": "python",
   "pygments_lexer": "ipython3",
   "version": "3.7.4"
  }
 },
 "nbformat": 4,
 "nbformat_minor": 4
}
